{
 "cells": [
  {
   "cell_type": "markdown",
   "metadata": {},
   "source": [
    "## Introduction to the Dataset\n",
    "\n",
    "This dataset features information about births in the United States from 1994-2003, it was compiled by FiveThirtyEight. \n",
    "\n",
    "The dataset contains the following columns:\n",
    "\n",
    "- year: Year (1994 to 2003).\n",
    "- month: Month (1 to 12).\n",
    "- date_of_month: Day number of the month (1 to 31).\n",
    "- day_of_week: Day of week (1 to 7).\n",
    "- births: Number of births that day.\n",
    "\n",
    "In this project, I will convert data into a list of lists, create an abstract summary function to calculate statistics on different columns, create a min/max value function from scratch, and implement a function that calculates the difference in consecutive values between years for a given column and value. \n"
   ]
  },
  {
   "cell_type": "code",
   "execution_count": 2,
   "metadata": {},
   "outputs": [
    {
     "name": "stdout",
     "output_type": "stream",
     "text": [
      "['year,month,date_of_month,day_of_week,births', '1994,1,1,6,8096', '1994,1,2,7,7772', '1994,1,3,1,10142', '1994,1,4,2,11248', '1994,1,5,3,11053', '1994,1,6,4,11406', '1994,1,7,5,11251', '1994,1,8,6,8653', '1994,1,9,7,7910']\n"
     ]
    }
   ],
   "source": [
    "#read csv file into a string, split the string on newline character, display first 10 values\n",
    "f = open(\"US_births_1994-2003_CDC_NCHS.csv\",\"r\").read().split(\"\\r\")\n",
    "print f[0:10]"
   ]
  },
  {
   "cell_type": "markdown",
   "metadata": {},
   "source": [
    "## Converting Data Into A List Of Lists\n",
    "\n",
    "While a list of strings helps us get a general picture of the dataset, we need to convert it to a more structured format to be able to analyze it. Specifically, we need to convert the dataset into a list of lists where each nested list contains integer values (not strings). We also need to remove the header row."
   ]
  },
  {
   "cell_type": "code",
   "execution_count": 3,
   "metadata": {},
   "outputs": [
    {
     "data": {
      "text/plain": [
       "[[1994, 1, 1, 6, 8096],\n",
       " [1994, 1, 2, 7, 7772],\n",
       " [1994, 1, 3, 1, 10142],\n",
       " [1994, 1, 4, 2, 11248],\n",
       " [1994, 1, 5, 3, 11053],\n",
       " [1994, 1, 6, 4, 11406],\n",
       " [1994, 1, 7, 5, 11251],\n",
       " [1994, 1, 8, 6, 8653],\n",
       " [1994, 1, 9, 7, 7910],\n",
       " [1994, 1, 10, 1, 10498]]"
      ]
     },
     "execution_count": 3,
     "metadata": {},
     "output_type": "execute_result"
    }
   ],
   "source": [
    "def read_csv(file_name):\n",
    "    #read file in. split on newline. \n",
    "    data = open(file_name,\"r\").read().split(\"\\r\")\n",
    "    \n",
    "    #remove header row\n",
    "    string_list = data[1:len(data)]\n",
    "    \n",
    "    final_list = []\n",
    "    \n",
    "    #convert each element in string_list to an integer. append to final_list.\n",
    "    for s in string_list:\n",
    "        int_fields = []\n",
    "        string_fields = s.split(\",\")\n",
    "        for string in string_fields: \n",
    "            int_string = int(string)\n",
    "            int_fields.append(int_string)\n",
    "        final_list.append(int_fields)\n",
    "    return final_list\n",
    "\n",
    "#Call read_csv() function on data and display first 10 rows. \n",
    "cdc_list = read_csv(\"US_births_1994-2003_CDC_NCHS.csv\")\n",
    "cdc_list[0:10]"
   ]
  },
  {
   "cell_type": "markdown",
   "metadata": {},
   "source": [
    "## Calculating Number Of Births Each Month\n",
    "\n",
    "Now that the data is in a more usable format, we can start to analyze it. Let's calculate the total number of births that occured in each month, across all of the years in the dataset. We'll create a dictionary where each key is a unique month and each value is the number of births that happened in that month, across all years"
   ]
  },
  {
   "cell_type": "code",
   "execution_count": 4,
   "metadata": {},
   "outputs": [
    {
     "data": {
      "text/plain": [
       "{1: 3232517,\n",
       " 2: 3018140,\n",
       " 3: 3322069,\n",
       " 4: 3185314,\n",
       " 5: 3350907,\n",
       " 6: 3296530,\n",
       " 7: 3498783,\n",
       " 8: 3525858,\n",
       " 9: 3439698,\n",
       " 10: 3378814,\n",
       " 11: 3171647,\n",
       " 12: 3301860}"
      ]
     },
     "execution_count": 4,
     "metadata": {},
     "output_type": "execute_result"
    }
   ],
   "source": [
    "#Calculate births by month. \n",
    "\n",
    "def month_births(lst):\n",
    "    #create empty dictionary to store monthly totals\n",
    "    births_per_month ={}\n",
    "    for l in lst:\n",
    "        #Extract the value in month column\n",
    "        month = l[1]\n",
    "        #Extract the value in birth column\n",
    "        births = l[4]\n",
    "        #If month value already exists as key in births_per_month dict, then add to existing value\n",
    "        if month in births_per_month:\n",
    "            births_per_month[month] = births_per_month[month] + births\n",
    "        #If month value doesn't exist as key, create key and the associated births value. \n",
    "        else:\n",
    "            births_per_month[month] = births\n",
    "    return births_per_month\n",
    "\n",
    "#Call function to determine number of births each month. \n",
    "cdc_month_births = month_births(cdc_list)\n",
    "cdc_month_births"
   ]
  },
  {
   "cell_type": "markdown",
   "metadata": {},
   "source": [
    "July - September are the top three months for births. Interestingly, that implies that more people are conceiving in the winter months. "
   ]
  },
  {
   "cell_type": "markdown",
   "metadata": {},
   "source": [
    "## Creating A More General Function\n",
    "\n",
    "It would be best to create a single function that works for any column (month, year, day of week, day of month) and calculates the number of births according to that split. "
   ]
  },
  {
   "cell_type": "code",
   "execution_count": 5,
   "metadata": {},
   "outputs": [
    {
     "data": {
      "text/plain": [
       "{1994: 3952767,\n",
       " 1995: 3899589,\n",
       " 1996: 3891494,\n",
       " 1997: 3880894,\n",
       " 1998: 3941553,\n",
       " 1999: 3959417,\n",
       " 2000: 4058814,\n",
       " 2001: 4025933,\n",
       " 2002: 4021726,\n",
       " 2003: 4089950}"
      ]
     },
     "execution_count": 5,
     "metadata": {},
     "output_type": "execute_result"
    }
   ],
   "source": [
    "def calc_counts(data,column):\n",
    "    dictionary = {}\n",
    "    for row in data:\n",
    "        column_calculation = row[column]\n",
    "        births = row[4]\n",
    "        if column_calculation in dictionary:\n",
    "            dictionary[column_calculation] = dictionary[column_calculation] + births\n",
    "        else:\n",
    "            dictionary[column_calculation] = births\n",
    "    return dictionary\n",
    "\n",
    "#Return births by year using this more generalized function.\n",
    "cdc_year_births = calc_counts(cdc_list,0)\n",
    "cdc_year_births"
   ]
  },
  {
   "cell_type": "code",
   "execution_count": 6,
   "metadata": {},
   "outputs": [
    {
     "name": "stdout",
     "output_type": "stream",
     "text": [
      "There were 3,952,767 births in 1994 and 4,089,950 births in 2003; births increased 3.47% over the 10 year period.\n"
     ]
    }
   ],
   "source": [
    "#Finding the percent change between 1994 and 2003, printing the outcome. \n",
    "births_1994 = cdc_year_births[1994]\n",
    "births_2003 = cdc_year_births[2003]\n",
    "year_percent_change = float(births_2003 - births_1994)/float(births_1994) * 100\n",
    "\n",
    "print \"There were {:,} births in 1994 and {:,} births in 2003; births increased {:.2f}% over the 10 year period.\" \\\n",
    ".format(births_1994,births_2003,year_percent_change)"
   ]
  },
  {
   "cell_type": "markdown",
   "metadata": {},
   "source": [
    "## Min/Max Value Function\n",
    "\n",
    "Write a function that calculates min and max values for any dictionary that's passed in."
   ]
  },
  {
   "cell_type": "code",
   "execution_count": 7,
   "metadata": {},
   "outputs": [
    {
     "name": "stdout",
     "output_type": "stream",
     "text": [
      "('Maximum Value:', 4089950, 'key:', 2003)\n",
      "('Minimum Value:', 3880894, 'key:', 1997)\n"
     ]
    }
   ],
   "source": [
    "#Write a function that calculates min and max values for any dictionary that's passed in. \n",
    "\n",
    "def min_max(my_dict):\n",
    "    key_max = max(my_dict.keys(), key=(lambda k: my_dict[k]))\n",
    "    key_min = min(my_dict.keys(), key=(lambda k: my_dict[k]))\n",
    "    print('Maximum Value:',my_dict[key_max],'key:',key_max)\n",
    "    print('Minimum Value:',my_dict[key_min],'key:',key_min)\n",
    "\n",
    "min_max(cdc_year_births)"
   ]
  },
  {
   "cell_type": "markdown",
   "metadata": {},
   "source": [
    "## Difference Between Consecutive Values\n",
    "\n",
    "Write a function to calculate the difference between consecutive values by year for a given value within a column. "
   ]
  },
  {
   "cell_type": "code",
   "execution_count": 8,
   "metadata": {
    "collapsed": true
   },
   "outputs": [],
   "source": [
    "def consecutive_values(lst,column,value):\n",
    "    year_dict = {}\n",
    "    years =[]\n",
    "    year_dict_diff = {}\n",
    "    for row in lst:\n",
    "        year = row[0]\n",
    "        births = row[4]\n",
    "        if year not in years:\n",
    "            years.append(year)\n",
    "        if row[column] == value:\n",
    "            if year in year_dict:\n",
    "                year_dict[year] = year_dict[year] + births\n",
    "            else:\n",
    "                year_dict[year] = births\n",
    "    minimum = years[0]\n",
    "    for year in years: \n",
    "        if year < minimum: \n",
    "            minimum = year\n",
    "    n = 1\n",
    "    a = 0 \n",
    "    while n < len(years):\n",
    "        year_dict_diff[str(minimum+ a)+\"-\"+str(minimum +n)] = year_dict[minimum + n] - year_dict[minimum+a]   \n",
    "        n = n+1\n",
    "        a = a+1\n",
    "    return year_dict_diff"
   ]
  },
  {
   "cell_type": "markdown",
   "metadata": {},
   "source": [
    "How have births changed on Saturday year to year from 1994-2003?"
   ]
  },
  {
   "cell_type": "code",
   "execution_count": 9,
   "metadata": {},
   "outputs": [
    {
     "data": {
      "text/plain": [
       "{'1994-1995': -15152,\n",
       " '1995-1996': -3319,\n",
       " '1996-1997': -5421,\n",
       " '1997-1998': 2936,\n",
       " '1998-1999': -3791,\n",
       " '1999-2000': 19809,\n",
       " '2000-2001': -15866,\n",
       " '2001-2002': -8158,\n",
       " '2002-2003': 1675}"
      ]
     },
     "execution_count": 9,
     "metadata": {},
     "output_type": "execute_result"
    }
   ],
   "source": [
    "consecutive_saturday = consecutive_values(cdc_list,3,6)\n",
    "consecutive_saturday"
   ]
  },
  {
   "cell_type": "markdown",
   "metadata": {
    "collapsed": true
   },
   "source": [
    "The biggest year to year spike in births occurred from 1999-2000, and the biggest decrease year to year occurred from 1994 to 1995. "
   ]
  },
  {
   "cell_type": "markdown",
   "metadata": {},
   "source": [
    "The next step would be to further abstract this function to find the largest increases and decreases across all values for a given column (months, day of week etc.)"
   ]
  }
 ],
 "metadata": {
  "kernelspec": {
   "display_name": "Python 2",
   "language": "python",
   "name": "python2"
  },
  "language_info": {
   "codemirror_mode": {
    "name": "ipython",
    "version": 2
   },
   "file_extension": ".py",
   "mimetype": "text/x-python",
   "name": "python",
   "nbconvert_exporter": "python",
   "pygments_lexer": "ipython2",
   "version": "2.7.14"
  }
 },
 "nbformat": 4,
 "nbformat_minor": 2
}
